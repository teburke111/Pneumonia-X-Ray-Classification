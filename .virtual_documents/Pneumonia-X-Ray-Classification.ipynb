





!pip install tensorflow opencv-python matplotlib


!pip list


import tensorflow as tf
import os


gpus = tf.config.experimental.list_physical_devices('GPU')
for gpu in gpus:
    tf.config.expeirimental.set_memory_growth(gpu, True)





import cv2
import imghdr
from matplotlib import pyplot as plt


data_dir = 'data'


image_exts = ['jpeg','jpg','bmp','png']


for image_class in os.listdir(data_dir):
    for image in os.listdir(os.path.join(data_dir, image_class )):
        image_path = os.path.join(data_dir, image_class, image)
        try:
            img = cv2.imread(image_path)
            tip = imghdr.what(image_path)
            if tip not in image_exts:
                print('Image not in ext list {}'. format(image_path))
                os.remove(image_path)
        except Exception as e: 
            print('Issue with image {}'.format(image_path))
            





import numpy as np
from matplotlib import pyplot as plt


data = tf.keras.utils.image_dataset_from_directory('data')


data_iterator = data.as_numpy_iterator()


#get another batch from iterator
batch = data_iterator.next()


#images represented as numpy arrays
batch[0].shape


# class 1 = Normal
# class 0 = Pneumonia
batch[1]


fig, ax = plt.subplots(ncols=8, figsize=(20,20))
for idx, img in enumerate(batch[0][:8]):
    ax[idx].imshow(img.astype(int))
    ax[idx].title.set_text(batch[1][idx])


scaled = batch[0] / 255


scaled.max()








data = data.map(lambda x,y: (x/255,y))


scaled_iterator = data.as_numpy_iterator()


batch = scaled_iterator.next()


batch[0].max()


batch[0][0].shape


fig, ax = plt.subplots(ncols=8, figsize=(20,20))
for idx, img in enumerate(batch[0][:8]):
    ax[idx].imshow(img)
    ax[idx].title.set_text(batch[1][idx])





len(data)


train_size = int(len(data)*.65)
val_size = int(len(data)*.2) + 1
test_size = int (len(data)*.15)


train_size + val_size + test_size


train = data.take(train_size)
val = data.skip(train_size).take(val_size)
test = data.skip(train_size+val_size).take(test_size)


len(test)








from tensorflow.keras.models import Sequential
from tensorflow.keras.layers import Conv2D, MaxPooling2D, Dense, Flatten, Dropout, BatchNormalization


model = Sequential()


model.add(Conv2D(16, (3,3), 1, activation='relu', input_shape=(256,256,3)))
model.add(MaxPooling2D())
model.add(Conv2D(32, (3,3), 1, activation='relu'))
model.add(MaxPooling2D())
model.add(Conv2D(16, (3,3), 1, activation='relu'))
model.add(MaxPooling2D())
model.add(Flatten())
model.add(Dense(256, activation='relu'))
model.add(Dense(1, activation='sigmoid'))


model.compile('adam', loss=tf.losses.BinaryCrossentropy(), metrics=['accuracy'])


model.summary()





logdir='logs'


tensorboard_callback=tf.keras.callbacks.TensorBoard(log_dir=logdir)


hist = model.fit(train, epochs=5, validation_data=val, callbacks=[tensorboard_callback])


hist.history





fig = plt.figure()
plt.plot(hist.history['loss'], color='teal', label='loss')
plt.plot(hist.history['val_loss'], color='orange', label='val_loss')
fig.suptitle('Loss', fontsize=20)
plt.legend(loc="upper left")
plt.show()


fig = plt.figure()
plt.plot(hist.history['accuracy'], color='teal', label='accuracy')
plt.plot(hist.history['val_accuracy'], color='orange', label='val_accuracy')
fig.suptitle('Accuracy', fontsize=20)
plt.legend(loc="upper left")
plt.show()








from tensorflow.keras.metrics import Precision, Recall, BinaryAccuracy


pre = Precision()
re = Recall()
acc = BinaryAccuracy()


len(test)


for batch in test.as_numpy_iterator(): 
    X, y = batch
    yhat = model.predict(X)
    pre.update_state(y, yhat)
    re.update_state(y, yhat)
    acc.update_state(y, yhat)


print(f'Precision:{pre.result().numpy()}, Recall:{re.result().numpy()}, Accuracy:{acc.result().numpy()}')








from tensorflow.keras.models import load_model


model.save(os.path.join('models','Pneumonia-X-Ray-Classification.h5'))



